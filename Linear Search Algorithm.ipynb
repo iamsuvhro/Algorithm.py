{
 "cells": [
  {
   "cell_type": "markdown",
   "metadata": {},
   "source": [
    "# Linear Search Algorithm"
   ]
  },
  {
   "cell_type": "code",
   "execution_count": 18,
   "metadata": {},
   "outputs": [
    {
     "name": "stdout",
     "output_type": "stream",
     "text": [
      "Not in list\n",
      "Not in list\n",
      "Found 2\n",
      "None\n"
     ]
    }
   ],
   "source": [
    "def linear_search(data_list,data):\n",
    "    index = len(data_list)\n",
    "    for i in range(0,index):\n",
    "        if data==data_list[i]:\n",
    "            print(\"Found\",i)\n",
    "            break\n",
    "        else:\n",
    "            print(\"Not in list\")     \n",
    "\n",
    "print(linear_search([5,2,3,5,8], 3))"
   ]
  },
  {
   "cell_type": "code",
   "execution_count": 6,
   "metadata": {},
   "outputs": [],
   "source": []
  },
  {
   "cell_type": "code",
   "execution_count": null,
   "metadata": {},
   "outputs": [],
   "source": []
  },
  {
   "cell_type": "code",
   "execution_count": null,
   "metadata": {},
   "outputs": [],
   "source": []
  }
 ],
 "metadata": {
  "kernelspec": {
   "display_name": "Python 3",
   "language": "python",
   "name": "python3"
  },
  "language_info": {
   "codemirror_mode": {
    "name": "ipython",
    "version": 3
   },
   "file_extension": ".py",
   "mimetype": "text/x-python",
   "name": "python",
   "nbconvert_exporter": "python",
   "pygments_lexer": "ipython3",
   "version": "3.7.1"
  }
 },
 "nbformat": 4,
 "nbformat_minor": 2
}
