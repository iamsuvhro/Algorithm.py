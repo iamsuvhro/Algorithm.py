{
 "cells": [
  {
   "cell_type": "markdown",
   "metadata": {},
   "source": [
    "# Binary Search Algorithm"
   ]
  },
  {
   "cell_type": "code",
   "execution_count": 1,
   "metadata": {},
   "outputs": [],
   "source": [
    "def binary_search(data_list,data):\n",
    "    index_first=0\n",
    "    index_last= len(data_list)-1\n",
    "    result = False\n",
    "    while (index_first<=index_last and not result):\n",
    "        mid= (index_first - index_last) //2    \n",
    "        if data_list[mid]==data:\n",
    "            result =True\n",
    "        else:\n",
    "            if data < data_list[mid]:\n",
    "                index_last = mid - 1\n",
    "            else:\n",
    "                index_first = mid + 1\n",
    "    return result\n",
    "        "
   ]
  },
  {
   "cell_type": "code",
   "execution_count": 2,
   "metadata": {},
   "outputs": [
    {
     "name": "stdout",
     "output_type": "stream",
     "text": [
      "True\n",
      "True\n"
     ]
    }
   ],
   "source": [
    "print(binary_search([1,2,3,5,8], 5))\n",
    "print(binary_search([1,2,3,5,8], 5))"
   ]
  }
 ],
 "metadata": {
  "kernelspec": {
   "display_name": "Python 3",
   "language": "python",
   "name": "python3"
  },
  "language_info": {
   "codemirror_mode": {
    "name": "ipython",
    "version": 3
   },
   "file_extension": ".py",
   "mimetype": "text/x-python",
   "name": "python",
   "nbconvert_exporter": "python",
   "pygments_lexer": "ipython3",
   "version": "3.7.1"
  }
 },
 "nbformat": 4,
 "nbformat_minor": 2
}
